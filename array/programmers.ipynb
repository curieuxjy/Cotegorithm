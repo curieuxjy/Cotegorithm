{
 "cells": [
  {
   "cell_type": "markdown",
   "id": "enormous-protein",
   "metadata": {},
   "source": [
    "[![Colab Badge](http://img.shields.io/badge/Colaboratory-black?style=for-the-badge&logo=google-colab)](https://colab.research.google.com/github/curieuxjy/Python/blob/master/Songorithm/array/programmers.ipynb)"
   ]
  },
  {
   "cell_type": "markdown",
   "id": "sublime-tower",
   "metadata": {},
   "source": [
    "[나누어 떨어지는 숫자배열](https://programmers.co.kr/learn/courses/30/lessons/12910)\n",
    "\n",
    "[ref](https://velog.io/@dbworud1234/%EB%82%98%EB%88%84%EC%96%B4-%EB%96%A8%EC%96%B4%EC%A7%80%EB%8A%94-%EC%88%AB%EC%9E%90-%EB%B0%B0%EC%97%B4)"
   ]
  },
  {
   "cell_type": "code",
   "execution_count": null,
   "id": "mighty-tractor",
   "metadata": {},
   "outputs": [],
   "source": []
  }
 ],
 "metadata": {
  "kernelspec": {
   "display_name": "Python 3",
   "language": "python",
   "name": "python3"
  },
  "language_info": {
   "codemirror_mode": {
    "name": "ipython",
    "version": 3
   },
   "file_extension": ".py",
   "mimetype": "text/x-python",
   "name": "python",
   "nbconvert_exporter": "python",
   "pygments_lexer": "ipython3",
   "version": "3.8.8"
  }
 },
 "nbformat": 4,
 "nbformat_minor": 5
}
