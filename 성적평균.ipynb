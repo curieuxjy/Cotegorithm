{
 "cells": [
  {
   "cell_type": "markdown",
   "id": "bafc224f-10e5-4bb0-ad6d-1d5971f8b2fc",
   "metadata": {},
   "source": [
    "# 1. 성적평균\n",
    "- 문제 링크: https://softeer.ai/practice/info.do?idx=1&eid=389\n",
    "\n",
    "- 문제\n",
    "    - N명의 학생들의 성적이 학번순서대로 주어졌다.\n",
    "    - 학번 구간 [A, B]가 주어졌을 때 이 학생들 성적의 평균을 구하는 프로그램을 작성하라.\n",
    "\n",
    "- 제약조건\n",
    "    - 1 ≤ N ≤ 106 인 정수\n",
    "    - 1 ≤ K ≤ 104 인 정수\n",
    "    - 1 ≤ Si ≤ 100 인 정수\n",
    "    - 1 ≤ Ai ≤ Bi ≤ N\n",
    "\n",
    "- 입력형식\n",
    "    - 첫 번째 줄에 학생 수 N과 구간 수 K가 주어진다.\n",
    "    - 두 번째 줄에는 학생의 성적 Si (1 ≤ i ≤ N)가 주어진다. i + 2 (1 ≤ i ≤ K)번째 줄에는 i번째 구간 Ai, Bi가 주어진다.\n",
    "\n",
    "- 출력형식\n",
    "    - i번째 줄에 i번째 구간의 성적평균(소수셋째자리에서 반올림)을 출력한다.\n",
    "    - 차이가 0.01이하이면 정답으로 채점됨.\n",
    "\n",
    "- 입력예제1\n",
    "```\n",
    "5 3\n",
    "10 50 20 70 100\n",
    "1 3\n",
    "3 4\n",
    "1 5\n",
    "```\n",
    "\n",
    "- 출력예제1\n",
    "```\n",
    "26.67\n",
    "45.00\n",
    "50.00\n",
    "```"
   ]
  },
  {
   "cell_type": "code",
   "execution_count": 1,
   "id": "6bf81b29-e7a2-4e9b-902c-4973c43e9590",
   "metadata": {},
   "outputs": [],
   "source": [
    "import sys"
   ]
  },
  {
   "cell_type": "code",
   "execution_count": 4,
   "id": "fb98935c-c0e8-4084-8fcf-e283f374f71d",
   "metadata": {},
   "outputs": [],
   "source": [
    "input_value = \"\"\"5 3\n",
    "10 50 20 70 100\n",
    "1 3\n",
    "3 4\n",
    "1 5\n",
    "\"\"\""
   ]
  },
  {
   "cell_type": "code",
   "execution_count": 5,
   "id": "bbc3a35a-c630-4675-a9a6-dcbace501e67",
   "metadata": {},
   "outputs": [
    {
     "data": {
      "text/plain": [
       "'5 3\\n10 50 20 70 100\\n1 3\\n3 4\\n1 5\\n'"
      ]
     },
     "execution_count": 5,
     "metadata": {},
     "output_type": "execute_result"
    }
   ],
   "source": [
    "input_value"
   ]
  },
  {
   "cell_type": "code",
   "execution_count": 54,
   "id": "8fdf0210-45b5-46d9-838d-79fae85a7b47",
   "metadata": {},
   "outputs": [],
   "source": [
    "def solution(input_value):\n",
    "    data_splited  = input_value.split(\"\\n\")\n",
    "    studentnum_sectionnum = data_splited[0]\n",
    "    scores = data_splited[1].split(\" \")\n",
    "    scores = [ int(score) for score in scores ]\n",
    "    sections = [ i.split(\" \") for i in data_splited[2:] if i!=\"\" ]\n",
    "    sec_start_list = [ int(pair[0])-1 for pair in sections ]\n",
    "    sec_end_list = [ int(pair[1])-1 for pair in sections ]\n",
    "    avg_scores = []\n",
    "    for start_id, end_id in zip(sec_start_list , sec_end_list):\n",
    "        sum_score = 0\n",
    "        for i in range(start_id, end_id+1):\n",
    "            sum_score += scores[i]\n",
    "        avg_score = sum_score/(end_id-start_id+1)\n",
    "        avg_scores.append(avg_score)\n",
    "    avg_scores = [ str(round(i, 2)) for i in avg_scores ]\n",
    "    output_string = \"\\n\".join(avg_scores)\n",
    "    return output_string"
   ]
  },
  {
   "cell_type": "code",
   "execution_count": 55,
   "id": "92fa653c-1841-473f-9635-f6b309e057a4",
   "metadata": {},
   "outputs": [],
   "source": [
    "output_value = solution(input_value)"
   ]
  },
  {
   "cell_type": "code",
   "execution_count": 57,
   "id": "2feb1dc4-37a4-47c6-af3f-c2d1d94ac5ef",
   "metadata": {},
   "outputs": [
    {
     "name": "stdout",
     "output_type": "stream",
     "text": [
      "26.67\n",
      "45.0\n",
      "50.0\n"
     ]
    }
   ],
   "source": [
    "print(output_value)"
   ]
  },
  {
   "cell_type": "code",
   "execution_count": null,
   "id": "18cfca85-5e71-4d1a-a8f0-3aa0ade0e42a",
   "metadata": {},
   "outputs": [],
   "source": []
  }
 ],
 "metadata": {
  "kernelspec": {
   "display_name": "Python 3 (ipykernel)",
   "language": "python",
   "name": "python3"
  },
  "language_info": {
   "codemirror_mode": {
    "name": "ipython",
    "version": 3
   },
   "file_extension": ".py",
   "mimetype": "text/x-python",
   "name": "python",
   "nbconvert_exporter": "python",
   "pygments_lexer": "ipython3",
   "version": "3.10.4"
  }
 },
 "nbformat": 4,
 "nbformat_minor": 5
}
