{
 "cells": [
  {
   "cell_type": "markdown",
   "id": "bafc224f-10e5-4bb0-ad6d-1d5971f8b2fc",
   "metadata": {},
   "source": [
    "# 1. 성적평균\n",
    "- 문제 링크: https://softeer.ai/practice/info.do?idx=1&eid=389\n",
    "\n",
    "- 문제\n",
    "    - N명의 학생들의 성적이 학번순서대로 주어졌다.\n",
    "    - 학번 구간 [A, B]가 주어졌을 때 이 학생들 성적의 평균을 구하는 프로그램을 작성하라.\n",
    "\n",
    "- 제약조건\n",
    "    - 1 ≤ N ≤ 106 인 정수\n",
    "    - 1 ≤ K ≤ 104 인 정수\n",
    "    - 1 ≤ Si ≤ 100 인 정수\n",
    "    - 1 ≤ Ai ≤ Bi ≤ N\n",
    "\n",
    "- 입력형식\n",
    "    - 첫 번째 줄에 학생 수 N과 구간 수 K가 주어진다.\n",
    "    - 두 번째 줄에는 학생의 성적 Si (1 ≤ i ≤ N)가 주어진다. i + 2 (1 ≤ i ≤ K)번째 줄에는 i번째 구간 Ai, Bi가 주어진다.\n",
    "\n",
    "- 출력형식\n",
    "    - i번째 줄에 i번째 구간의 성적평균(소수셋째자리에서 반올림)을 출력한다.\n",
    "    - 차이가 0.01이하이면 정답으로 채점됨.\n",
    "\n",
    "- 입력예제1\n",
    "```\n",
    "5 3\n",
    "10 50 20 70 100\n",
    "1 3\n",
    "3 4\n",
    "1 5\n",
    "```\n",
    "\n",
    "- 출력예제1\n",
    "```\n",
    "26.67\n",
    "45.00\n",
    "50.00\n",
    "```"
   ]
  },
  {
   "cell_type": "code",
   "execution_count": 1,
   "id": "6bf81b29-e7a2-4e9b-902c-4973c43e9590",
   "metadata": {},
   "outputs": [],
   "source": [
    "import sys"
   ]
  },
  {
   "cell_type": "code",
   "execution_count": 4,
   "id": "fb98935c-c0e8-4084-8fcf-e283f374f71d",
   "metadata": {},
   "outputs": [],
   "source": [
    "input_value = \"\"\"5 3\n",
    "10 50 20 70 100\n",
    "1 3\n",
    "3 4\n",
    "1 5\n",
    "\"\"\""
   ]
  },
  {
   "cell_type": "code",
   "execution_count": 5,
   "id": "bbc3a35a-c630-4675-a9a6-dcbace501e67",
   "metadata": {},
   "outputs": [
    {
     "data": {
      "text/plain": [
       "'5 3\\n10 50 20 70 100\\n1 3\\n3 4\\n1 5\\n'"
      ]
     },
     "execution_count": 5,
     "metadata": {},
     "output_type": "execute_result"
    }
   ],
   "source": [
    "input_value"
   ]
  },
  {
   "cell_type": "code",
   "execution_count": 19,
   "id": "8fdf0210-45b5-46d9-838d-79fae85a7b47",
   "metadata": {},
   "outputs": [],
   "source": [
    "def solution(input_value):\n",
    "    data_splited  = input_value.split(\"\\n\")\n",
    "    studentnum_sectionnum = data_splited[0]\n",
    "    scores = data_splited[1].split(\" \")\n",
    "    # print(data_splited[2:])\n",
    "    sections = [ i.split(\" \") for i in data_splited[2:] if i!=\"\" ]\n",
    "    # print(sections)\n",
    "    sec_start_list = [ int(pair[0])-1 for pair in sections ]\n",
    "    sec_end_list = [ int(pair[1])-1 for pair in sections ]\n",
    "    # print(sec_start_list)\n",
    "    # sum_scores = []\n",
    "    avg_scores = []\n",
    "    for start_id, end_id in zip(sec_start_list , sec_end_list):\n",
    "        for i in range(start_id, end_id):\n",
    "            sum_score += scores[i]\n",
    "            avg_score = sum_score/(end_id-start_id+1)\n",
    "            avg_scores.append(avg_score)\n",
    "        # sum_score += scores[i]\n",
    "    # avg_scores = sum_scores/(sec_end-sec_start+1)\n",
    "    return avg_scores"
   ]
  },
  {
   "cell_type": "code",
   "execution_count": 18,
   "id": "92fa653c-1841-473f-9635-f6b309e057a4",
   "metadata": {},
   "outputs": [
    {
     "name": "stdout",
     "output_type": "stream",
     "text": [
      "['1', '3', '1']\n"
     ]
    },
    {
     "ename": "NameError",
     "evalue": "name 'sec_start' is not defined",
     "output_type": "error",
     "traceback": [
      "\u001b[1;31m---------------------------------------------------------------------------\u001b[0m",
      "\u001b[1;31mNameError\u001b[0m                                 Traceback (most recent call last)",
      "Cell \u001b[1;32mIn [18], line 1\u001b[0m\n\u001b[1;32m----> 1\u001b[0m output_value \u001b[38;5;241m=\u001b[39m solution(input_value)\n",
      "Cell \u001b[1;32mIn [17], line 12\u001b[0m, in \u001b[0;36msolution\u001b[1;34m(input_value)\u001b[0m\n\u001b[0;32m     10\u001b[0m \u001b[38;5;28mprint\u001b[39m(sec_start_list)\n\u001b[0;32m     11\u001b[0m sum_scores \u001b[38;5;241m=\u001b[39m \u001b[38;5;241m0\u001b[39m\n\u001b[1;32m---> 12\u001b[0m \u001b[38;5;28;01mfor\u001b[39;00m i \u001b[38;5;129;01min\u001b[39;00m \u001b[38;5;28mrange\u001b[39m(\u001b[43msec_start\u001b[49m\u001b[38;5;241m-\u001b[39m\u001b[38;5;241m1\u001b[39m, sec_end\u001b[38;5;241m-\u001b[39m\u001b[38;5;241m1\u001b[39m):\n\u001b[0;32m     13\u001b[0m     sum_scores \u001b[38;5;241m+\u001b[39m\u001b[38;5;241m=\u001b[39m scores[i]\n\u001b[0;32m     14\u001b[0m avg_scores \u001b[38;5;241m=\u001b[39m sum_scores\u001b[38;5;241m/\u001b[39m(sec_end\u001b[38;5;241m-\u001b[39msec_start\u001b[38;5;241m+\u001b[39m\u001b[38;5;241m1\u001b[39m)\n",
      "\u001b[1;31mNameError\u001b[0m: name 'sec_start' is not defined"
     ]
    }
   ],
   "source": [
    "output_value = solution(input_value)"
   ]
  },
  {
   "cell_type": "code",
   "execution_count": null,
   "id": "2feb1dc4-37a4-47c6-af3f-c2d1d94ac5ef",
   "metadata": {},
   "outputs": [],
   "source": []
  }
 ],
 "metadata": {
  "kernelspec": {
   "display_name": "Python 3 (ipykernel)",
   "language": "python",
   "name": "python3"
  },
  "language_info": {
   "codemirror_mode": {
    "name": "ipython",
    "version": 3
   },
   "file_extension": ".py",
   "mimetype": "text/x-python",
   "name": "python",
   "nbconvert_exporter": "python",
   "pygments_lexer": "ipython3",
   "version": "3.10.4"
  }
 },
 "nbformat": 4,
 "nbformat_minor": 5
}
