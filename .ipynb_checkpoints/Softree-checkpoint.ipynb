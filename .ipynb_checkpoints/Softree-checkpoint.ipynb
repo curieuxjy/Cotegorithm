{
 "cells": [
  {
   "cell_type": "markdown",
   "id": "bafc224f-10e5-4bb0-ad6d-1d5971f8b2fc",
   "metadata": {},
   "source": [
    "# 1. 성적평균\n",
    "- 문제 링크: https://softeer.ai/practice/info.do?idx=1&eid=389\n",
    "\n",
    "- 문제\n",
    "    - N명의 학생들의 성적이 학번순서대로 주어졌다.\n",
    "    - 학번 구간 [A, B]가 주어졌을 때 이 학생들 성적의 평균을 구하는 프로그램을 작성하라.\n",
    "\n",
    "- 제약조건\n",
    "    - 1 ≤ N ≤ 106 인 정수\n",
    "    - 1 ≤ K ≤ 104 인 정수\n",
    "    - 1 ≤ Si ≤ 100 인 정수\n",
    "    - 1 ≤ Ai ≤ Bi ≤ N\n",
    "\n",
    "- 입력형식\n",
    "    - 첫 번째 줄에 학생 수 N과 구간 수 K가 주어진다.\n",
    "    - 두 번째 줄에는 학생의 성적 Si (1 ≤ i ≤ N)가 주어진다. i + 2 (1 ≤ i ≤ K)번째 줄에는 i번째 구간 Ai, Bi가 주어진다.\n",
    "\n",
    "- 출력형식\n",
    "    - i번째 줄에 i번째 구간의 성적평균(소수셋째자리에서 반올림)을 출력한다.\n",
    "    - 차이가 0.01이하이면 정답으로 채점됨.\n",
    "\n",
    "- 입력예제1\n",
    "```\n",
    "5 3\n",
    "10 50 20 70 100\n",
    "1 3\n",
    "3 4\n",
    "1 5\n",
    "```\n",
    "\n",
    "- 출력예제1\n",
    "```\n",
    "26.67\n",
    "45.00\n",
    "50.00\n",
    "```"
   ]
  },
  {
   "cell_type": "code",
   "execution_count": null,
   "id": "24c85d4e-de70-41ab-b869-0b81be398c0e",
   "metadata": {},
   "outputs": [],
   "source": [
    "import sys\n",
    "\n",
    "studentnum_sectionnum = input().split(\" \")\n",
    "studentnum = int(studentnum_sectionnum[0])\n",
    "sectionnum = int(studentnum_sectionnum[1])\n",
    "scores = input().split(\" \")\n",
    "scores = [int(score) for score in scores ]\n",
    "# print(scores)\n",
    "input_sections = []\n",
    "for sec in range(sectionnum):\n",
    "    section = input()\n",
    "    input_sections.append(section)\n",
    "sections = [ i.split(\" \") for i in input_sections]\n",
    "sec_start_list = [ int(pair[0])-1 for pair in sections ]\n",
    "sec_end_list = [ int(pair[1])-1 for pair in sections ]\n",
    "avg_scores = []\n",
    "for start_id, end_id in zip(sec_start_list , sec_end_list):\n",
    "    sum_score = 0\n",
    "    for i in range(start_id, end_id+1):\n",
    "        sum_score += scores[i]\n",
    "    avg_score = round(sum_score/(end_id-start_id+1), 2)\n",
    "    print(\"{:0.2f}\".format(avg_score))"
   ]
  },
  {
   "cell_type": "markdown",
   "id": "c16d8362-9c67-4ad7-997f-4741351f837f",
   "metadata": {},
   "source": [
    "```\n",
    "all_tests Subtask\n",
    "No\t이름\t결과\t실행시간\t메모리\n",
    "1\ttc1\t정답\t144.0ms\t38.05mb\n",
    "2\ttc10\t정답\t526.0ms\t89.29mb\n",
    "3\ttc2\t정답\t202.0ms\t40.2mb\n",
    "4\ttc3\t정답\t235.0ms\t39.89mb\n",
    "5\ttc4\t정답\t268.0ms\t40.7mb\n",
    "6\ttc5\t정답\t318.0ms\t53.05mb\n",
    "7\ttc6\t정답\t355.0ms\t56.95mb\n",
    "8\ttc7\t정답\t393.0ms\t63.6mb\n",
    "9\ttc8\t정답\t406.0ms\t71.64mb\n",
    "10\ttc9\t정답\t483.0ms\t80.57mb\n",
    "```"
   ]
  },
  {
   "cell_type": "markdown",
   "id": "f85a6bae-069f-4840-a4c9-76916df58491",
   "metadata": {},
   "source": [
    "# 2. 징검다리\n",
    "\n",
    "- 문제 링크: https://softeer.ai/practice/info.do?idx=1&eid=390\n",
    "\n",
    "- 문제\n",
    "    - 남북으로 흐르는 개울에 동서로 징검다리가 놓여져 있다.\n",
    "    - 이 징검다리의 돌은 들쑥날쑥하여 높이가 모두 다르다. 철수는 개울의 서쪽에서 동쪽으로 높이가 점점 높은 돌을 밟으면서 개울을 지나가려고 한다.\n",
    "    - 돌의 높이가 서쪽의 돌부터 동쪽방향으로 주어졌을 때 철수가 밟을 수 있는 돌의 최대 개수는?\n",
    "\n",
    "- 제약조건\n",
    "    - 1 ≤ N ≤ 3×103 인 정수\n",
    "    - 1 ≤ Ai ≤ 108 인 정수\n",
    "\n",
    "- 입력형식\n",
    "    - 첫 번째 줄에 돌의 개수 N이 주어진다.\n",
    "    - 두 번째 줄에 돌의 높이 Ai (1 ≤ i ≤ N)가 서쪽부터 동쪽으로 차례로 주어진다.\n",
    "- 출력형식\n",
    "    - 첫 번째 줄에 철수가 밟을 수 있는 돌의 최대 개수를 출력하라.\n",
    "\n",
    "- 입력예제1\n",
    "```\n",
    "5\n",
    "3 2 1 4 5\n",
    "```\n",
    "- 출력예제1\n",
    "```\n",
    "3\n",
    "```"
   ]
  },
  {
   "cell_type": "code",
   "execution_count": 3,
   "id": "18add4b2-819b-41c6-8a0a-d26888135fa2",
   "metadata": {},
   "outputs": [],
   "source": [
    "input_value = \"\"\"5\n",
    "3 2 1 4 5\n",
    "\"\"\""
   ]
  },
  {
   "cell_type": "code",
   "execution_count": 4,
   "id": "9ac5cd84-e24c-44f0-879c-290618d06c63",
   "metadata": {},
   "outputs": [
    {
     "data": {
      "text/plain": [
       "'5\\n3 2 1 4 5\\n'"
      ]
     },
     "execution_count": 4,
     "metadata": {},
     "output_type": "execute_result"
    }
   ],
   "source": [
    "input_value"
   ]
  },
  {
   "cell_type": "code",
   "execution_count": 5,
   "id": "29ee7e19-66be-461b-8e93-9d9ff016dd0a",
   "metadata": {},
   "outputs": [],
   "source": [
    "def solution(input_value):\n",
    "    data_splited  = input_value.split(\"\\n\")\n",
    "    num_stones = int(data_splited[0])\n",
    "    for start_stone in range(num_stones):\n",
    "        \n",
    "    start_stone\n",
    "    return output_string"
   ]
  },
  {
   "cell_type": "code",
   "execution_count": null,
   "id": "3a2a7972-4634-40ce-a7c7-c049b564334e",
   "metadata": {},
   "outputs": [],
   "source": []
  }
 ],
 "metadata": {
  "kernelspec": {
   "display_name": "Python 3 (ipykernel)",
   "language": "python",
   "name": "python3"
  },
  "language_info": {
   "codemirror_mode": {
    "name": "ipython",
    "version": 3
   },
   "file_extension": ".py",
   "mimetype": "text/x-python",
   "name": "python",
   "nbconvert_exporter": "python",
   "pygments_lexer": "ipython3",
   "version": "3.10.4"
  }
 },
 "nbformat": 4,
 "nbformat_minor": 5
}
