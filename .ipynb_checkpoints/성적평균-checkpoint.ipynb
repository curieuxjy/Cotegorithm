{
 "cells": [
  {
   "cell_type": "markdown",
   "id": "bafc224f-10e5-4bb0-ad6d-1d5971f8b2fc",
   "metadata": {},
   "source": [
    "# 1. 성적평균\n",
    "- 문제 링크: https://softeer.ai/practice/info.do?idx=1&eid=389\n",
    "\n",
    "- 문제\n",
    "    - N명의 학생들의 성적이 학번순서대로 주어졌다.\n",
    "    - 학번 구간 [A, B]가 주어졌을 때 이 학생들 성적의 평균을 구하는 프로그램을 작성하라.\n",
    "\n",
    "- 제약조건\n",
    "    - 1 ≤ N ≤ 106 인 정수\n",
    "    - 1 ≤ K ≤ 104 인 정수\n",
    "    - 1 ≤ Si ≤ 100 인 정수\n",
    "    - 1 ≤ Ai ≤ Bi ≤ N\n",
    "\n",
    "- 입력형식\n",
    "    - 첫 번째 줄에 학생 수 N과 구간 수 K가 주어진다.\n",
    "    - 두 번째 줄에는 학생의 성적 Si (1 ≤ i ≤ N)가 주어진다. i + 2 (1 ≤ i ≤ K)번째 줄에는 i번째 구간 Ai, Bi가 주어진다.\n",
    "\n",
    "- 출력형식\n",
    "    - i번째 줄에 i번째 구간의 성적평균(소수셋째자리에서 반올림)을 출력한다.\n",
    "    - 차이가 0.01이하이면 정답으로 채점됨.\n",
    "\n",
    "- 입력예제1\n",
    "```\n",
    "5 3\n",
    "10 50 20 70 100\n",
    "1 3\n",
    "3 4\n",
    "1 5\n",
    "```\n",
    "\n",
    "- 출력예제1\n",
    "```\n",
    "26.67\n",
    "45.00\n",
    "50.00\n",
    "```"
   ]
  },
  {
   "cell_type": "code",
   "execution_count": null,
   "id": "6bf81b29-e7a2-4e9b-902c-4973c43e9590",
   "metadata": {},
   "outputs": [],
   "source": []
  }
 ],
 "metadata": {
  "kernelspec": {
   "display_name": "Python 3 (ipykernel)",
   "language": "python",
   "name": "python3"
  },
  "language_info": {
   "codemirror_mode": {
    "name": "ipython",
    "version": 3
   },
   "file_extension": ".py",
   "mimetype": "text/x-python",
   "name": "python",
   "nbconvert_exporter": "python",
   "pygments_lexer": "ipython3",
   "version": "3.10.4"
  }
 },
 "nbformat": 4,
 "nbformat_minor": 5
}
