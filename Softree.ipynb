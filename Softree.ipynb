{
 "cells": [
  {
   "cell_type": "markdown",
   "id": "bafc224f-10e5-4bb0-ad6d-1d5971f8b2fc",
   "metadata": {},
   "source": [
    "# 1. 성적평균 [O]\n",
    "- 문제 링크: https://softeer.ai/practice/info.do?idx=1&eid=389\n",
    "\n",
    "- 문제\n",
    "    - N명의 학생들의 성적이 학번순서대로 주어졌다.\n",
    "    - 학번 구간 [A, B]가 주어졌을 때 이 학생들 성적의 평균을 구하는 프로그램을 작성하라.\n",
    "\n",
    "- 제약조건\n",
    "    - 1 ≤ N ≤ 106 인 정수\n",
    "    - 1 ≤ K ≤ 104 인 정수\n",
    "    - 1 ≤ Si ≤ 100 인 정수\n",
    "    - 1 ≤ Ai ≤ Bi ≤ N\n",
    "\n",
    "- 입력형식\n",
    "    - 첫 번째 줄에 학생 수 N과 구간 수 K가 주어진다.\n",
    "    - 두 번째 줄에는 학생의 성적 Si (1 ≤ i ≤ N)가 주어진다. i + 2 (1 ≤ i ≤ K)번째 줄에는 i번째 구간 Ai, Bi가 주어진다.\n",
    "\n",
    "- 출력형식\n",
    "    - i번째 줄에 i번째 구간의 성적평균(소수셋째자리에서 반올림)을 출력한다.\n",
    "    - 차이가 0.01이하이면 정답으로 채점됨.\n",
    "\n",
    "- 입력예제1\n",
    "```\n",
    "5 3\n",
    "10 50 20 70 100\n",
    "1 3\n",
    "3 4\n",
    "1 5\n",
    "```\n",
    "\n",
    "- 출력예제1\n",
    "```\n",
    "26.67\n",
    "45.00\n",
    "50.00\n",
    "```"
   ]
  },
  {
   "cell_type": "code",
   "execution_count": null,
   "id": "24c85d4e-de70-41ab-b869-0b81be398c0e",
   "metadata": {},
   "outputs": [],
   "source": [
    "import sys\n",
    "\n",
    "studentnum_sectionnum = input().split(\" \")\n",
    "studentnum = int(studentnum_sectionnum[0])\n",
    "sectionnum = int(studentnum_sectionnum[1])\n",
    "scores = input().split(\" \")\n",
    "scores = [int(score) for score in scores ]\n",
    "# print(scores)\n",
    "input_sections = []\n",
    "for sec in range(sectionnum):\n",
    "    section = input()\n",
    "    input_sections.append(section)\n",
    "sections = [ i.split(\" \") for i in input_sections]\n",
    "sec_start_list = [ int(pair[0])-1 for pair in sections ]\n",
    "sec_end_list = [ int(pair[1])-1 for pair in sections ]\n",
    "avg_scores = []\n",
    "for start_id, end_id in zip(sec_start_list , sec_end_list):\n",
    "    sum_score = 0\n",
    "    for i in range(start_id, end_id+1):\n",
    "        sum_score += scores[i]\n",
    "    avg_score = round(sum_score/(end_id-start_id+1), 2)\n",
    "    print(\"{:0.2f}\".format(avg_score))"
   ]
  },
  {
   "cell_type": "markdown",
   "id": "c16d8362-9c67-4ad7-997f-4741351f837f",
   "metadata": {},
   "source": [
    "```\n",
    "all_tests Subtask\n",
    "No\t이름\t결과\t실행시간\t메모리\n",
    "1\ttc1\t정답\t144.0ms\t38.05mb\n",
    "2\ttc10\t정답\t526.0ms\t89.29mb\n",
    "3\ttc2\t정답\t202.0ms\t40.2mb\n",
    "4\ttc3\t정답\t235.0ms\t39.89mb\n",
    "5\ttc4\t정답\t268.0ms\t40.7mb\n",
    "6\ttc5\t정답\t318.0ms\t53.05mb\n",
    "7\ttc6\t정답\t355.0ms\t56.95mb\n",
    "8\ttc7\t정답\t393.0ms\t63.6mb\n",
    "9\ttc8\t정답\t406.0ms\t71.64mb\n",
    "10\ttc9\t정답\t483.0ms\t80.57mb\n",
    "```"
   ]
  },
  {
   "cell_type": "markdown",
   "id": "f85a6bae-069f-4840-a4c9-76916df58491",
   "metadata": {},
   "source": [
    "# 2. 징검다리\n",
    "\n",
    "- 문제 링크: https://softeer.ai/practice/info.do?idx=1&eid=390\n",
    "\n",
    "- 문제\n",
    "    - 남북으로 흐르는 개울에 동서로 징검다리가 놓여져 있다.\n",
    "    - 이 징검다리의 돌은 들쑥날쑥하여 높이가 모두 다르다. 철수는 개울의 서쪽에서 동쪽으로 높이가 점점 높은 돌을 밟으면서 개울을 지나가려고 한다.\n",
    "    - 돌의 높이가 서쪽의 돌부터 동쪽방향으로 주어졌을 때 철수가 밟을 수 있는 돌의 최대 개수는?\n",
    "\n",
    "- 제약조건\n",
    "    - 1 ≤ N ≤ 3×103 인 정수\n",
    "    - 1 ≤ Ai ≤ 108 인 정수\n",
    "\n",
    "- 입력형식\n",
    "    - 첫 번째 줄에 돌의 개수 N이 주어진다.\n",
    "    - 두 번째 줄에 돌의 높이 Ai (1 ≤ i ≤ N)가 서쪽부터 동쪽으로 차례로 주어진다.\n",
    "- 출력형식\n",
    "    - 첫 번째 줄에 철수가 밟을 수 있는 돌의 최대 개수를 출력하라.\n",
    "\n",
    "- 입력예제1\n",
    "```\n",
    "5\n",
    "3 2 1 4 5\n",
    "```\n",
    "- 출력예제1\n",
    "```\n",
    "3\n",
    "```\n",
    "\n",
    "- solution : https://softeer.ai/community/view.do?idx=30&cd=edu&pageNo=1"
   ]
  },
  {
   "cell_type": "code",
   "execution_count": 3,
   "id": "18add4b2-819b-41c6-8a0a-d26888135fa2",
   "metadata": {},
   "outputs": [],
   "source": [
    "input1 = \"9\"\n",
    "input2 = \"9 2 1 4 5 6 1 6 8\""
   ]
  },
  {
   "cell_type": "markdown",
   "id": "154c855a-ead4-446b-bbac-39c8cff6ef8a",
   "metadata": {},
   "source": [
    "처음에 푼 풀이인데 몇개의 테스트 케이스에 대해서 통과를 못하는 이유를 모르겠음"
   ]
  },
  {
   "cell_type": "code",
   "execution_count": 5,
   "id": "29ee7e19-66be-461b-8e93-9d9ff016dd0a",
   "metadata": {},
   "outputs": [
    {
     "name": "stdout",
     "output_type": "stream",
     "text": [
      "5\n"
     ]
    }
   ],
   "source": [
    "num_stones = int(input1)\n",
    "half_num = num_stones//2\n",
    "stones = [int(i) for i in input2.split(\" \")]\n",
    "max_num_list = []\n",
    "stop_flag = False\n",
    "for start_id in range(num_stones):\n",
    "    if stop_flag:\n",
    "        break\n",
    "    max_num = 1\n",
    "    pointer = start_id\n",
    "    for stone_id in range(pointer+1, num_stones):\n",
    "        # print(\"------\", start_id, pointer, stone_id)\n",
    "        if stones[stone_id]>stones[pointer]:\n",
    "            max_num += 1\n",
    "            pointer = stone_id\n",
    "            # print(\">>\", pointer, stone_id)\n",
    "        else: # same or low\n",
    "            continue\n",
    "    # print(\"add\")\n",
    "    max_num_list.append(max_num)\n",
    "    latest_max = max(max_num_list)\n",
    "    if (latest_max > half_num) and (start_id > half_num):\n",
    "        # print(\"stop\", start_id)\n",
    "        stop_flag = True\n",
    "print(latest_max)"
   ]
  },
  {
   "cell_type": "code",
   "execution_count": 6,
   "id": "bbc9042e-bada-47c1-9336-db128b9ba17a",
   "metadata": {},
   "outputs": [
    {
     "data": {
      "text/plain": [
       "[1, 5, 5, 4, 3, 2]"
      ]
     },
     "execution_count": 6,
     "metadata": {},
     "output_type": "execute_result"
    }
   ],
   "source": [
    "max_num_list"
   ]
  },
  {
   "cell_type": "markdown",
   "id": "fe8d1180-39e9-48e0-8e9b-c577b671366a",
   "metadata": {},
   "source": [
    "- 시간복잡도 $O(N^2)$\n",
    "- 배열을 만들어서 풀이\n",
    "- 각 배열의 값을 1로 초기화 해준다음 해당 인덱스보다 작은 인덱스의 돌의 높이가 작으면 \n",
    "\n",
    "$$\\operatorname{rocks}[\\mathrm{i}]=\\max _{j<i, A_j<A_i} \\operatorname{rocks}[\\mathrm{j}]+1$$"
   ]
  },
  {
   "cell_type": "code",
   "execution_count": 7,
   "id": "3b7c33ec-9f66-42b2-af38-b1a5d7ff6a8b",
   "metadata": {},
   "outputs": [
    {
     "name": "stdout",
     "output_type": "stream",
     "text": [
      "5\n"
     ]
    }
   ],
   "source": [
    "N = int(input1)\n",
    "stones = list(map(int, input2.split()))\n",
    "\n",
    "# array generation\n",
    "init = [1 for i in range(N)]\n",
    "\n",
    "for i in range(1, N):\n",
    "    # j before i\n",
    "    scan_list = []\n",
    "    j_max = 0\n",
    "    for j in range(i):\n",
    "        if stones[i] > stones[j]:\n",
    "            scan_list.append(init[j])\n",
    "            j_max = max(scan_list)\n",
    "    # update value of i-th stone\n",
    "    init[i] = j_max + 1\n",
    "print(max(init))"
   ]
  },
  {
   "cell_type": "markdown",
   "id": "9cc62953-93ca-401a-ae87-6be33b880431",
   "metadata": {},
   "source": [
    "위의 풀이가 몇개의 테스트 케이스들에 대해서 시간제한 초과가 되어 list comprehension으로 해결"
   ]
  },
  {
   "cell_type": "code",
   "execution_count": 9,
   "id": "10a82eaf-5aa3-4dd5-bdb9-7cd04bbc9671",
   "metadata": {},
   "outputs": [
    {
     "name": "stdout",
     "output_type": "stream",
     "text": [
      "5\n"
     ]
    }
   ],
   "source": [
    "N = int(input1)\n",
    "stones = list(map(int, input2.split()))\n",
    "\n",
    "# array generation\n",
    "init = [1 for i in range(N)]\n",
    "\n",
    "for i in range(1, N):\n",
    "    # j before i\n",
    "    scan_list = []\n",
    "    j_max = 0\n",
    "    scan_list = [ init[j] for j in range(i) if stones[i] > stones[j]] \n",
    "    if scan_list == []:\n",
    "        pass\n",
    "    else:\n",
    "        j_max = max(scan_list)\n",
    "    # update value of i-th stone\n",
    "    init[i] = j_max + 1\n",
    "print(max(init))"
   ]
  },
  {
   "cell_type": "markdown",
   "id": "dc716b61-741a-4655-9d1d-6ad64f060ed6",
   "metadata": {},
   "source": [
    "# 3. 수퍼바이러스\n",
    "\n",
    "- 문제\n",
    "    - 수퍼바이러스가 숙주의 몸속에서 0.1초당 P배씩 증가한다.\n",
    "    - 처음에 수퍼바이러스 K마리가 있었다면 N초 후에는 총 몇 마리의 수퍼바이러스로 불어날까?\n",
    "    - N초 동안 죽는 수퍼바이러스는 없다고 가정한다.\n",
    "    - 수퍼바이러스는 일반 바이러스에 비해서 훨씬 오래 생존할 수 있기 때문에 N이 매우 클 수 있다.\n",
    "\n",
    "- 제약조건\n",
    "    - 1 ≤ K ≤ 108 인 정수\n",
    "    - 1 ≤ P ≤ 108 인 정수\n",
    "    - 1 ≤ N ≤ 1016 인 정수\n",
    "\n",
    "- 입력형식\n",
    "    - 첫 번째 줄에 처음 바이러스의 수 K, 증가율 P, 총 시간 N(초)이 주어진다.\n",
    "\n",
    "- 출력형식\n",
    "    - 최종 바이러스 개수를 1000000007로 나눈 나머지를 출력한다.\n",
    "\n",
    "- 입력예제1\n",
    "```\n",
    "1 2 1\n",
    "```\n",
    "- 출력예제1\n",
    "```\n",
    "1024\n",
    "```"
   ]
  },
  {
   "cell_type": "code",
   "execution_count": null,
   "id": "af3c1800-2288-4a4e-8df1-b6a7ac214e1c",
   "metadata": {},
   "outputs": [],
   "source": []
  },
  {
   "cell_type": "code",
   "execution_count": null,
   "id": "20b267e1-dee5-4bb9-b7fb-cc8324112984",
   "metadata": {},
   "outputs": [],
   "source": []
  },
  {
   "cell_type": "code",
   "execution_count": null,
   "id": "d6f7affa-2380-4080-8edc-f8d9cf6b43a5",
   "metadata": {},
   "outputs": [],
   "source": []
  },
  {
   "cell_type": "code",
   "execution_count": null,
   "id": "d080a214-e585-431e-866c-0cd29fa6f002",
   "metadata": {},
   "outputs": [],
   "source": []
  },
  {
   "cell_type": "markdown",
   "id": "d6f554b5-8d35-4707-879f-08455062e658",
   "metadata": {},
   "source": [
    "# 4. 강의실 배정\n",
    "\n",
    "- 문제\n",
    "    - 김교수는 강의실 1개에 최대한 많은 강의를 배정하려고 한다. 배정된 강의는 서로 겹치지 않아야 하며 수업시간의 길이와 상관없이 최대한 강의를 많이 배정하라. 단, 두 강의의 시작시간과 종료시간은 겹쳐도 된다. \n",
    "\n",
    "- 제약조건\n",
    "    - 1 ≤ N ≤ 106 인 정수\n",
    "    - 1 ≤ Si ＜ Fi ≤ 109\n",
    "\n",
    "- 입력형식\n",
    "    - 첫 번째 줄에 강의 개수 N이 주어진다. i + 1 (1 ≤ i ≤ N)번째 줄에는 i번째 강의의 시작 시간 Si와 종료 시간 Fi가 주어진다.\n",
    "\n",
    "- 출력형식\n",
    "    - 첫 번째 줄에 최대 강의 수를 출력하라.\n",
    "\n",
    "- 입력예제1\n",
    "```\n",
    "3\n",
    "1 3\n",
    "2 4\n",
    "3 5\n",
    "```\n",
    "- 출력예제1\n",
    "```\n",
    "2\n",
    "```"
   ]
  },
  {
   "cell_type": "code",
   "execution_count": null,
   "id": "9ea4043a-5db7-4c8b-89b5-cf06e977e70e",
   "metadata": {},
   "outputs": [],
   "source": [
    "input_values"
   ]
  },
  {
   "cell_type": "code",
   "execution_count": null,
   "id": "0ff30256-5005-420b-a54d-ab95e599442e",
   "metadata": {},
   "outputs": [],
   "source": []
  },
  {
   "cell_type": "code",
   "execution_count": null,
   "id": "727f6762-1f0d-4744-ab5f-b21333549dbc",
   "metadata": {},
   "outputs": [],
   "source": []
  },
  {
   "cell_type": "code",
   "execution_count": null,
   "id": "12428158-408a-411b-84d0-14d5fa56047b",
   "metadata": {},
   "outputs": [],
   "source": []
  },
  {
   "cell_type": "code",
   "execution_count": null,
   "id": "e4f21470-a4ac-4c8e-865f-07b6493b42f5",
   "metadata": {},
   "outputs": [],
   "source": []
  }
 ],
 "metadata": {
  "kernelspec": {
   "display_name": "Python 3 (ipykernel)",
   "language": "python",
   "name": "python3"
  },
  "language_info": {
   "codemirror_mode": {
    "name": "ipython",
    "version": 3
   },
   "file_extension": ".py",
   "mimetype": "text/x-python",
   "name": "python",
   "nbconvert_exporter": "python",
   "pygments_lexer": "ipython3",
   "version": "3.10.4"
  }
 },
 "nbformat": 4,
 "nbformat_minor": 5
}
